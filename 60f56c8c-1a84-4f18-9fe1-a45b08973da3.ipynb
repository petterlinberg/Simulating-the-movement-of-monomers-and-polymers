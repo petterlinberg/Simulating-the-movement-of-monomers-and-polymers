{
 "cells": [
  {
   "cell_type": "code",
   "execution_count": null,
   "metadata": {
    "cell_id": "b5c8ff46-cb19-4fd2-bd42-edae151e7518",
    "deepnote_cell_type": "code",
    "deepnote_to_be_reexecuted": false,
    "execution_millis": 771013,
    "execution_start": 1644836540736,
    "source_hash": "b623e53d",
    "tags": []
   },
   "outputs": [],
   "source": []
  },
  {
   "cell_type": "markdown",
   "metadata": {
    "cell_id": "f25099c5-095d-401e-8af9-213ba6302d20",
    "deepnote_cell_type": "text-cell-h1",
    "is_collapsed": false,
    "tags": []
   },
   "source": [
    "# Simulating the movement of monomers and polymers"
   ]
  },
  {
   "cell_type": "markdown",
   "metadata": {
    "cell_id": "fc60064a-25ec-4847-8351-b5d48befb049",
    "deepnote_cell_type": "text-cell-h3",
    "is_collapsed": false,
    "tags": []
   },
   "source": [
    "### Introduction"
   ]
  },
  {
   "cell_type": "markdown",
   "metadata": {
    "cell_id": "d6d2bbd1-9cd7-4932-95a6-d34d811c70d1",
    "deepnote_cell_type": "markdown",
    "tags": []
   },
   "source": [
    "In this numerical project we will look at the movement of membrane-free organelles found in the nucleoli of a cell. The nucleoli consist of electric charged monomers that move around and form polymers due to the electromagnetnic forces. To simulate this movement we use the Monte Carlo method, which utilize random sampling along some pre stated conditions over millions of steps to mimmic the conditions found in the nucleoli. We assume that all movement occurs because of electromagnetic forces or because of variations in thermal energy. Therefore we run the simulations at different temperatures and initial conditions.\n",
    "\n",
    "From the simulation we can extract interesting values like expected value of the size of the polymers. (We will use the mean value to estimate this). And the development of the energy in the system. \n",
    "\n",
    "The montecarlo methods used in the exercise involve large scale calculations. We use jit from the numba library, which translates functions to optimized machine code. This drastically lowers runtime. Every function that is iterated over in a MC function will be jitted.\n",
    "\n",
    "The project is structured like this: We do the tasks in order with explanations as paragraphs above the code. The code is also filled with comments explaining the steps taken. "
   ]
  },
  {
   "cell_type": "code",
   "execution_count": 2,
   "metadata": {
    "cell_id": "b78b684f-17fb-4356-8582-c6a2cc40fc5b",
    "deepnote_cell_type": "code",
    "deepnote_to_be_reexecuted": false,
    "execution_millis": 13496,
    "execution_start": 1644836540742,
    "source_hash": "67fa1979",
    "tags": []
   },
   "outputs": [
    {
     "name": "stdout",
     "output_type": "stream",
     "text": [
      "Requirement already satisfied: numba in /Users/oskarflata/opt/anaconda3/lib/python3.8/site-packages (0.55.1)\n",
      "Requirement already satisfied: setuptools in /Users/oskarflata/opt/anaconda3/lib/python3.8/site-packages (from numba) (49.6.0.post20200925)\n",
      "Requirement already satisfied: llvmlite<0.39,>=0.38.0rc1 in /Users/oskarflata/opt/anaconda3/lib/python3.8/site-packages (from numba) (0.38.0)\n",
      "Requirement already satisfied: numpy<1.22,>=1.18 in /Users/oskarflata/opt/anaconda3/lib/python3.8/site-packages (from numba) (1.19.1)\n",
      "Note: you may need to restart the kernel to use updated packages.\n"
     ]
    }
   ],
   "source": [
    "#importing libraries and numba\n",
    "import numpy as np\n",
    "import random as rdm\n",
    "import matplotlib.pyplot as plt\n",
    "from matplotlib import colors\n",
    "\n",
    "%pip install numba\n",
    "from numba import jit\n",
    "from numba.core.errors import NumbaDeprecationWarning, NumbaPendingDeprecationWarning\n",
    "import warnings\n",
    "from time import time\n",
    "\n",
    "\n"
   ]
  },
  {
   "cell_type": "markdown",
   "metadata": {
    "cell_id": "dd4d1ebb-6ef9-411b-a5d0-f81413f51857",
    "deepnote_cell_type": "text-cell-h2",
    "is_collapsed": false,
    "tags": []
   },
   "source": [
    "## Monomers"
   ]
  },
  {
   "cell_type": "markdown",
   "metadata": {
    "cell_id": "eee877ed-12ce-4a85-b9da-4e890e66259b",
    "deepnote_cell_type": "markdown",
    "tags": []
   },
   "source": [
    "1a) We start by looking at systems of monomers placed in a solvent. Monomers have electrical charge of e or -e. Opposite charged monomers attract each other and can form crystal-like structures as we will later see. First of all we have to construct the functions that we need to portray more complex systems.\n",
    "\n",
    "First we generate a random grid of monomers, and assign each monomer a value from -m to m (not 0). Each monomer has a unique value to make it easier to solve problems later on. Their charge is given by their sign. The function inputs n and m and returns an n x n array with 2m monomers."
   ]
  },
  {
   "cell_type": "code",
   "execution_count": 3,
   "metadata": {
    "cell_id": "fb8bdede-69fd-44a6-b619-8afdde0f6626",
    "deepnote_cell_type": "code",
    "deepnote_output_heights": [
     192
    ],
    "deepnote_to_be_reexecuted": false,
    "execution_millis": 1196,
    "execution_start": 1644836554258,
    "source_hash": "e4c3c534",
    "tags": []
   },
   "outputs": [],
   "source": [
    "\n",
    "@jit(nopython=True)\n",
    "def generate_grid_of_monomers(n,m):\n",
    "    grid = np.zeros((n,n),dtype=np.dtype('i2')) # creating grid\n",
    "    \n",
    "    # fills the grid with values from -m to m\n",
    "    for i in range(m):\n",
    "        while True:\n",
    "            x_rand = rdm.randint(0,n-1) #creating random coordinates\n",
    "            y_rand = rdm.randint(0,n-1) \n",
    "            if grid[x_rand,y_rand] == 0: #checking if the spot is occupied or contains zero\n",
    "                break                    #and breaking and finding another value if it is\n",
    "        grid[x_rand,y_rand] = i+1 \n",
    "        \n",
    "        #likewise with negaive values\n",
    "        while True:\n",
    "            x_rand = rdm.randint(0,n-1)\n",
    "            y_rand = rdm.randint(0,n-1)\n",
    "            if grid[x_rand,y_rand] == 0:\n",
    "                break\n",
    "        grid[x_rand,y_rand] = -(i+1)\n",
    "        \n",
    "    \n",
    "    return grid\n",
    "        \n",
    "        \n",
    "my_first_grid=generate_grid_of_monomers(10,10)\n",
    "\n",
    "\n"
   ]
  },
  {
   "cell_type": "code",
   "execution_count": 4,
   "metadata": {
    "cell_id": "968efe6e-baec-4994-9bc4-ba0f0f7e28db",
    "deepnote_cell_type": "code",
    "deepnote_output_heights": [
     250
    ],
    "deepnote_to_be_reexecuted": false,
    "execution_millis": 259,
    "execution_start": 1644836555471,
    "source_hash": "743bd813",
    "tags": []
   },
   "outputs": [
    {
     "data": {
      "image/png": "[encoded data removed]",
      "text/plain": [
       "<Figure size 432x288 with 1 Axes>"
      ]
     },
     "metadata": {
      "needs_background": "light"
     },
     "output_type": "display_data"
    }
   ],
   "source": [
    "#1b\n",
    "def print_grid(grid):\n",
    "    n = len(grid)\n",
    "    cmap = colors.ListedColormap(['blue', 'gray','red']) #choosing colors to plot\n",
    "    bounds = [-n,-0.5,0.5,n] #defining the bounds for the colors\n",
    "\n",
    "    norm = colors.BoundaryNorm(bounds, cmap.N)\n",
    "    fig, ax = plt.subplots()\n",
    "    ax.imshow(grid, cmap=cmap, norm=norm)\n",
    "\n",
    "\n",
    "    plt.show()\n",
    "\n",
    "print_grid(my_first_grid)\n"
   ]
  },
  {
   "cell_type": "markdown",
   "metadata": {
    "cell_id": "9e986a86-22af-4aaf-8e6f-674c8b525925",
    "deepnote_cell_type": "markdown",
    "tags": []
   },
   "source": [
    "Because electrostatic forces are inversely proprtional to the square of the distance $ F= \\frac{q _{1}\\cdot q _{2}}{4\\cdot \\pi \\cdot \\varepsilon \\cdot \\varepsilon _{0}\\cdot r^{2}} $\n",
    " we make the assumption that only neighbors attract each other. This means that we want a function that finds the neighbour coordinates of a given coordinate.  \n",
    "\n",
    "\n"
   ]
  },
  {
   "cell_type": "markdown",
   "metadata": {
    "cell_id": "0c65c62d-745b-457f-82f8-7ab0c25a21f2",
    "deepnote_cell_type": "text-cell-p",
    "is_collapsed": false,
    "tags": []
   },
   "source": [
    "1c) The following is the solution to task 1c. This is the function mentioned above. It takes a grid and 2 coordinates as input, and returns the 4 nearest neighbors of the given coordinates (taking edge conditions into consideration). the coordinates are returned as an array of arrays. This function will be useful later, especially when it comes to cluster formations."
   ]
  },
  {
   "cell_type": "code",
   "execution_count": 5,
   "metadata": {
    "cell_id": "6323d76f-d93f-4351-82ec-f40b8556d2f9",
    "deepnote_cell_type": "code",
    "deepnote_to_be_reexecuted": false,
    "execution_millis": 3,
    "execution_start": 1644836555756,
    "source_hash": "fdeccacc",
    "tags": []
   },
   "outputs": [],
   "source": [
    "@jit(nopython=True)\n",
    "#function that returns the neighbor of a coordinate\n",
    "def nearest_neighbors(grid,x_0,y_0):\n",
    "    n = len(grid)\n",
    "    x = y_0\n",
    "    y = x_0\n",
    "    \n",
    "    \n",
    "\n",
    "    \n",
    "    #defining the neighboring indexes\n",
    "    down = np.array([y-1,x])\n",
    "    up = np.array([y+1,x])\n",
    "    left = np.array([y,x-1])\n",
    "    right = np.array([y,x+1])\n",
    "    \n",
    "    #taking care of the edge conditions\n",
    "    \n",
    "    if x == 0:\n",
    "        left = np.array([y,n-1])\n",
    "    if x == n-1:\n",
    "        right = np.array([y,0])\n",
    "    if y == 0:\n",
    "        down = np.array([n-1,x])\n",
    "    if y == n-1:  \n",
    "        up = np.array([0,x])\n",
    "        \n",
    "    \n",
    "    boundary_array =[right,up,left,down]\n",
    "                      \n",
    "    return(boundary_array)\n",
    "\n",
    " "
   ]
  },
  {
   "cell_type": "markdown",
   "metadata": {
    "cell_id": "f08b1334-6713-457d-b321-a7c4b7eb4ab4",
    "deepnote_cell_type": "text-cell-p",
    "is_collapsed": false,
    "tags": []
   },
   "source": [
    "1d) This function calculates the energy of a monomer system. It takes the grid as input and returns the energy as a float. It iterates through the grid twice. First it calculates the energy of all horizontal neighbors, then it calculates the energy of all vertical neighbors. This is the function that will be used to calculate the energy in the MC method."
   ]
  },
  {
   "cell_type": "code",
   "execution_count": 6,
   "metadata": {
    "cell_id": "95684621-bfa3-4116-bb52-73022e882a19",
    "deepnote_cell_type": "code",
    "deepnote_output_heights": [
     250,
     250,
     261
    ],
    "deepnote_to_be_reexecuted": false,
    "execution_millis": 619,
    "execution_start": 1644836555777,
    "source_hash": "9e51e1f7",
    "tags": []
   },
   "outputs": [
    {
     "name": "stdout",
     "output_type": "stream",
     "text": [
      "1.6736236744082335e-20\n"
     ]
    }
   ],
   "source": [
    "@jit(nopython=True)\n",
    "def grid_energy(grid):\n",
    "    \n",
    "    n = len(grid)\n",
    "\n",
    "    #defining constants\n",
    "    a = 23.0E-6\n",
    "    e0 = 8.85E-12\n",
    "    e = 1.6E-19\n",
    "    Alpha = ((e)**2)/(4*np.pi*(a**2)*78*e0)\n",
    "\n",
    "    E_y = 0 \n",
    "    E_x = 0 \n",
    "    \n",
    "    for array in grid: # iterating over the grid to find horisontal neighbors\n",
    "        for i in range(n):\n",
    "            x = array[i]*array[(i+1) % n] #product of neighbors, the % takes care of the edge conditions\n",
    "            if x != 0:\n",
    "                energyPack = x/(abs(x)) #this adds 1 or -1 to E depending on the the sign of x\n",
    "                E_x = E_x + energyPack # adding the energy\n",
    "    \n",
    "    #likewise but for vertical neighbors    \n",
    "    for i in range(n):\n",
    "        for l in range(n):\n",
    "            x = grid[i][l]*grid[(i+1) % n][l]\n",
    "            if x != 0:\n",
    "                energyPack = x/(abs(x))\n",
    "                E_y = E_y+energyPack\n",
    "                \n",
    "    E = Alpha*(E_y +E_x) # adding the energys together, and multiplying by alpha to get the right value\n",
    "\n",
    "    return E\n",
    "\n",
    "my_first_grid_energy = grid_energy(my_first_grid)\n",
    "print(my_first_grid_energy)\n"
   ]
  },
  {
   "cell_type": "code",
   "execution_count": null,
   "metadata": {
    "cell_id": "9d324009-a739-4b60-8b4a-224cef8594ba",
    "deepnote_cell_type": "code",
    "deepnote_to_be_reexecuted": false,
    "execution_millis": 777815,
    "execution_start": 1644836556391,
    "source_hash": "be4985d0",
    "tags": []
   },
   "outputs": [],
   "source": [
    "\n",
    "\n"
   ]
  },
  {
   "cell_type": "markdown",
   "metadata": {
    "cell_id": "566a1fec-f8f8-4da7-82dc-f459b87904ce",
    "deepnote_cell_type": "text-cell-p",
    "is_collapsed": false,
    "tags": []
   },
   "source": [
    "1e) This is the function to move monomers that will be used in the MC method for monomers. It is mostly taken from the code 'getting started' notebook given on the subject website. It takes the value of the monomer thats about to be moved, the grid, and direction (random integer from 0 to 3) as input. It returns the grid after the move has been made. The function chooses a random neighbor using the nearest_neighbor function and implements the move if the given neighbor is not occupied."
   ]
  },
  {
   "cell_type": "code",
   "execution_count": 7,
   "metadata": {
    "cell_id": "71c4b6b7-c78e-481f-ad72-b039b956e1c5",
    "deepnote_cell_type": "code",
    "deepnote_to_be_reexecuted": false,
    "execution_millis": 1,
    "execution_start": 1644836556400,
    "source_hash": "3dadcd0",
    "tags": []
   },
   "outputs": [],
   "source": [
    "@jit(nopython=True)\n",
    "\n",
    "#code for moving monomers thats used in the montecarlo simulation\n",
    "#the method taken from the getting startes notebook thats provided\n",
    "def move_monomer(grid, monomer_value, direction):\n",
    "    grid0 = grid.copy() #copying the grid\n",
    "    monomer_coordinates = np.argwhere(grid==monomer_value)[0] #finding coordinates of given monomer\n",
    "    \n",
    "    neighbors = nearest_neighbors(grid0, monomer_coordinates[0],monomer_coordinates[1]) #finding neighbors of the point\n",
    "    selected_neighbor = neighbors[direction] #selecting random neighbor\n",
    "    if grid0[selected_neighbor[0], selected_neighbor[1]] == 0:  #checking if the gridpoint is occupied\n",
    "        grid0[selected_neighbor[0], selected_neighbor[1]] = monomer_value # and assigning the new value if it is not\n",
    "        grid0[monomer_coordinates[0], monomer_coordinates[1]] = 0   \n",
    "    return(grid0)\n",
    "\n"
   ]
  },
  {
   "cell_type": "markdown",
   "metadata": {
    "cell_id": "227b0367-729a-4619-a6f5-22c1f3452d80",
    "deepnote_cell_type": "text-cell-p",
    "is_collapsed": false,
    "tags": []
   },
   "source": [
    "1e) Now we have the tools to implement the MC method for monomer systems. Since we know the rules that dictate the monomer system, we can simulate it as a markov chain and measure its physical properties. The Montecarlo method that is used here is called the Metropolis algorithm. As input it takes a randomly generated grid, number of steps, and temperature. It returns the grid after #steps iterations, as well a list with the energy of the system at every step. The function is based on the pseudo code in algorithm 2. For each step a random monomer is selected, and the move_monomer function is applied to it. The move is applied if the resulting grid has a lower energy than than the previous. The move is also carried through if thermal fluctuation condition goes through. ie if the random decimal between 0 and 1 is less than $e^{-B (E_new - E_old)}$. The energy is also added to a list for each step.\n",
    "\n"
   ]
  },
  {
   "cell_type": "code",
   "execution_count": 8,
   "metadata": {
    "cell_id": "fa6a77b4-c310-4022-ba82-9b25f83ed55b",
    "deepnote_cell_type": "code",
    "deepnote_output_heights": [
     null,
     343,
     261
    ],
    "deepnote_to_be_reexecuted": false,
    "execution_millis": 5259,
    "execution_start": 1644836556408,
    "source_hash": "b31328f6",
    "tags": []
   },
   "outputs": [
    {
     "name": "stdout",
     "output_type": "stream",
     "text": [
      "Runtime:  1.569 s\n",
      "portion of energy diff steps:  2.118 %  portion of heat steps:  58.914 %\n",
      "Runtime:  0.665 s\n",
      "portion of energy diff steps:  12.514 %  portion of heat steps:  61.642 %\n"
     ]
    },
    {
     "data": {
      "image/png": "[encoded data removed]",
      "text/plain": [
       "<Figure size 1152x576 with 2 Axes>"
      ]
     },
     "metadata": {
      "needs_background": "light"
     },
     "output_type": "display_data"
    },
    {
     "data": {
      "image/png": "[encoded data removed]",
      "text/plain": [
       "<Figure size 432x288 with 1 Axes>"
      ]
     },
     "metadata": {
      "needs_background": "light"
     },
     "output_type": "display_data"
    }
   ],
   "source": [
    "#@jit(nopython=True)\n",
    "\n",
    "def montecarlo (grid, steps, T):\n",
    "    start=time()\n",
    "\n",
    "    #assigning constants\n",
    "    kB = 1.38E-23\n",
    "    B = 1/(kB*T)\n",
    "    \n",
    "    E_list = []  #list that will be filled by energy values\n",
    "\n",
    "    num_heat_trans = 0 #these numbers will tell how many times the two types of monomer moves occur\n",
    "    num_e_diff = 0\n",
    "    \n",
    "    num_monomers = len(np.argwhere(grid))\n",
    "    max_value = int(num_monomers/2) #finding the given m of the monomer\n",
    "    \n",
    "    for i in range(steps): #the MC simulation\n",
    "        \n",
    "        newgrid = grid.copy() #copying the grid\n",
    "        \n",
    "        abs_monomer = rdm.randint(1,max_value)\n",
    "        monomer_value = abs_monomer* (rdm.randint(0,1)-0.5)*2 #this finds the value of a random monomer in the grid\n",
    "        \n",
    "        direction = rdm.randint(0,3) #get a random int to give a random direction to the monomer\n",
    "        \n",
    "        newgrid = move_monomer(grid, monomer_value, direction) #the grid after the move\n",
    "        #energies before and after move\n",
    "        E_n = grid_energy(newgrid) \n",
    "        E = grid_energy(grid)\n",
    "        \n",
    "        if E_n < E: # checking if the new grid has lower energy, and allowing the move if it is,\n",
    "                num_e_diff += 1 #counting the move\n",
    "                \n",
    "                grid = newgrid.copy() \n",
    "\n",
    "                \n",
    "                E_list.append(E_n) #storing the energy in the list\n",
    "\n",
    "        \n",
    "                \n",
    "        elif rdm.random() < np.exp(-B*(E_n-E)): #checking if the thermal fluctuation move is triggered\n",
    "                num_heat_trans += 1 #counting the move\n",
    "                grid = newgrid.copy() #realizing the move\n",
    "                E_list.append(E_n) #storing the energy in the list\n",
    "        else:\n",
    "                E_list.append(E) #counting the move\n",
    "        \n",
    "    stop=time()  \n",
    "    print (\"Runtime: \", round(stop-start,3), \"s\")  \n",
    "    print(\"portion of energy diff steps: \", 100* num_e_diff/steps,\"%  portion of heat steps: \", 100*num_heat_trans/steps, \"%\")\n",
    "    return grid, E_list\n",
    "\n",
    "\n",
    "#We generate and plot the grids that are requested in 1f).\n",
    "\n",
    "grid_init = generate_grid_of_monomers(15,25)\n",
    "\n",
    "grid_200,E_list_200 = montecarlo(grid_init,50000,200)\n",
    "\n",
    "\n",
    "\n",
    "grid_500,E_list_500 = montecarlo(grid_init,50000,500)\n",
    "\n",
    "np.savez('grid200500.npz',T200 = grid_200, T500 = grid_500) #we save the grids so we can plot it later in 1g)\n",
    "\n",
    "data = np.load('grid200500.npz')\n",
    "#print (data['T200'])\n",
    "\n",
    "\n",
    "def plot_adjacent2(grid1,grid2): #function that plots the grids next to each other. recycled code\n",
    "\n",
    "    n = len(grid2)\n",
    "    fig, axs = plt.subplots(1, 2 ,figsize = (16,8))\n",
    "\n",
    "    cmap = colors.ListedColormap(['blue', 'gray','red']) #choosing colors to plot\n",
    "    bounds = [-n,-0.5,0.5,n] #defining the bounds for the colors\n",
    "    norm = colors.BoundaryNorm(bounds, cmap.N)\n",
    " \n",
    "\n",
    "    axs[0].imshow(grid1, cmap=cmap, norm=norm)\n",
    "    axs[1].imshow(grid2, cmap=cmap, norm=norm)\n",
    "\n",
    "    axs[0].title.set_text('Final config. at T = 200')\n",
    "    axs[0].title.set_size(16)\n",
    "    axs[1].title.set_text('Final config. at T = 500')\n",
    "    axs[1].title.set_size(16)    \n",
    "    plt.subplots_adjust(top=0.85)\n",
    "    plt.tight_layout()\n",
    "\n",
    "\n",
    "    plt.show()\n",
    "\n",
    "\n",
    "plot_adjacent2(grid_200,grid_500)\n",
    "\n",
    "x_list = np.linspace(0,len(E_list_200)-1,len(E_list_200))\n",
    "\n",
    "plt.plot(x_list,E_list_200)\n",
    "plt.plot(x_list, E_list_500)\n",
    "plt.show()"
   ]
  },
  {
   "cell_type": "markdown",
   "metadata": {},
   "source": [
    "Above we see the grids and energyplots for the MC method after 50000 steps"
   ]
  },
  {
   "cell_type": "markdown",
   "metadata": {
    "cell_id": "85efec2d-eeef-48fd-8238-2174ad88c513",
    "deepnote_cell_type": "text-cell-p",
    "is_collapsed": false,
    "tags": []
   },
   "source": [
    "   1e) To visually determine the number of steps needed before the systems reach equilibrium we look at when the energy\n",
    "   stops decreasing and fluctuates around some value. In this case it appears to happens almost immediately for the \n",
    "   500 degree case. After less than 1000 steps. And after around 10000 steps for the 200 degree case.\n",
    "   We note that it happens much quicker in the high temperature case. To explain this we can consider the fact that\n",
    "   that the start energy is closer to the equilibrium energy of the 500 degree simulation. But with how quickly \n",
    "   the temperature drops we can assume that this doesnt have too big of an impact."
   ]
  },
  {
   "cell_type": "markdown",
   "metadata": {
    "cell_id": "b17a0879-b73d-47be-874e-07552ce51449",
    "deepnote_cell_type": "text-cell-p",
    "is_collapsed": false,
    "tags": []
   },
   "source": [
    "\n",
    "   Local energy minima is a more impactful consideration. If the simulation reaches a local energy minima,\n",
    "   (or a configuration with very few possible moves that decrease energy), it will need to trigger the thermal condition\n",
    "   that allows a monomer to move even if it doesnt decrease energy. This probabaility is higher at higher temperatures so\n",
    "   the second simulation will more quickly get out of minimas, while the low temperature simulation will have a tendency\n",
    "   to get 'stuck' at minimas. Accordingly, it takes longer for the low temperature simulation to reach its equilibrium"
   ]
  },
  {
   "cell_type": "code",
   "execution_count": null,
   "metadata": {
    "cell_id": "17198531-8e17-45d7-937a-4bfe96e87f88",
    "deepnote_cell_type": "code",
    "deepnote_to_be_reexecuted": false,
    "execution_millis": 1,
    "execution_start": 1644836561702,
    "source_hash": "b623e53d",
    "tags": []
   },
   "outputs": [],
   "source": []
  },
  {
   "cell_type": "code",
   "execution_count": null,
   "metadata": {
    "cell_id": "308c13d7-53dd-407a-905f-0860dd5253f5",
    "deepnote_cell_type": "code",
    "deepnote_output_heights": [
     250
    ],
    "deepnote_to_be_reexecuted": false,
    "execution_millis": 1,
    "execution_start": 1644836561703,
    "source_hash": "b623e53d",
    "tags": []
   },
   "outputs": [],
   "source": []
  },
  {
   "cell_type": "code",
   "execution_count": null,
   "metadata": {
    "cell_id": "9f041b31-74a1-4709-b44a-fd725d2a42c4",
    "deepnote_cell_type": "code",
    "deepnote_to_be_reexecuted": false,
    "execution_millis": 777684,
    "execution_start": 1644836561704,
    "source_hash": "2ff462cb",
    "tags": []
   },
   "outputs": [],
   "source": [
    "\n",
    "    "
   ]
  },
  {
   "cell_type": "code",
   "execution_count": 9,
   "metadata": {
    "cell_id": "19c9d2d4-90fc-43d7-b34c-d9bbbf032514",
    "deepnote_cell_type": "code",
    "deepnote_output_heights": [
     250
    ],
    "deepnote_to_be_reexecuted": false,
    "execution_millis": 777684,
    "execution_start": 1644836561706,
    "source_hash": "84e193d6",
    "tags": []
   },
   "outputs": [],
   "source": [
    "\n",
    "def plotte_poly2(grid,title): #function for plotting polymers\n",
    "    fig, ax = plt.subplots()\n",
    "    M = np.amax(grid)\n",
    "    min_val, max_val = -M, M\n",
    "    plt.title(title)\n",
    "    ax.matshow(grid)#, cmap=plt.cm.Blues)\n"
   ]
  },
  {
   "cell_type": "markdown",
   "metadata": {
    "cell_id": "6e599401-d195-447a-acf5-307dbcc80d0d",
    "deepnote_cell_type": "text-cell-p",
    "is_collapsed": false,
    "tags": []
   },
   "source": [
    "1g) We know look at cluster formations in the monomers grid. \n",
    "\n",
    "Here is the function that return the cluster grid of a given grid (as well as the number of clusters). Cluster_iteration iterates over the grid, and when it hits a monomer it calls the recursive function cluster_recursion. Cluster recursion takes in the grid, the coordinates, and the integer that is assigned to the cluster. It uses the nearest_neighbor function to find the monomer neighbors of the given monomer. It then calls itself on the coordinates of the neighbors it finds. Cluster_recursion changes the value of the monomers find to the cluster id, which ensures that the same monomer coordinates wont be called by the function again. The function keeps going until there are no unchanged monomers in the cluster. "
   ]
  },
  {
   "cell_type": "markdown",
   "metadata": {
    "cell_id": "7533fcea-bfb9-4713-affe-2525f65de278",
    "deepnote_cell_type": "text-cell-p",
    "is_collapsed": false,
    "tags": []
   },
   "source": [
    "Then the cluster_iteration function keeps iterating over the grid and does the same to the rest of the clusters, with the cluster id increasing by one for each cluster. Meaning the monomers of the first cluster have value 1, the second 2 and so on."
   ]
  },
  {
   "cell_type": "code",
   "execution_count": 10,
   "metadata": {
    "cell_id": "07ab5bf5-fa0f-4f94-8ded-31847217fbd3",
    "deepnote_cell_type": "code",
    "deepnote_output_heights": [
     254,
     254,
     250
    ],
    "deepnote_to_be_reexecuted": false,
    "execution_millis": 0,
    "execution_start": 1644836561757,
    "source_hash": "9a78ba13",
    "tags": []
   },
   "outputs": [],
   "source": [
    "@jit(nopython=True)\n",
    "def cluster_recursion(grid, x, y,cluster_id):\n",
    "\n",
    "\n",
    "    \n",
    "    naboer = nearest_neighbors(grid,x,y) #finding neighbors of point\n",
    "    grid[x,y] = cluster_id\n",
    "\n",
    "    for elem in naboer: \n",
    "        x1, y1 = elem[0],elem[1] #neighbor coordinates\n",
    "        if grid[x1, y1] != 0: #checking if the given neighbor is a monomer\n",
    "            if grid[x1,y1] != cluster_id: #checking that the neighbor hasnt already been visited\n",
    "                grid[x1,y1] = cluster_id  #giving the monomer the integer of the particular cluster\n",
    "                cluster_recursion(grid, x1, y1,cluster_id) #calling the function again on the neighbor that was found\n",
    "                \n",
    "\n",
    "    return grid\n",
    "    \n",
    "@jit(nopython=True)\n",
    "def cluster_iteration(grid): #function that runs the recursion\n",
    "    grid1 = np.copy(grid)\n",
    "    cluster_id = 0\n",
    "    n = len(grid1) \n",
    "    newgrid = np.copy(grid1)\n",
    "    for i in range(n):\n",
    "        for l in range(n): \n",
    "            if grid1[i,l] != 0:\n",
    "                grid1[i,l] = -10\n",
    "    for i in range(n):\n",
    "        for l in range(n): \n",
    "            if grid1[i,l] == -10:\n",
    "                cluster_id += 1\n",
    "                cluster_recursion(grid1, i, l, cluster_id)\n",
    "                \n",
    "                \n",
    "\n",
    "    return grid1, cluster_id\n",
    "\n",
    "\n",
    "\n"
   ]
  },
  {
   "cell_type": "markdown",
   "metadata": {
    "cell_id": "9e4dec14-6ea2-4619-ae47-909e9fee2ce8",
    "deepnote_cell_type": "text-cell-p",
    "is_collapsed": false,
    "tags": []
   },
   "source": [
    "1f) Here we use the cluster function to plot the cluster grid of the monomer grid we found in 1f)"
   ]
  },
  {
   "cell_type": "code",
   "execution_count": 11,
   "metadata": {
    "cell_id": "3e290719-1eea-4068-8bf7-bf5d50b1d057",
    "deepnote_cell_type": "code",
    "deepnote_output_heights": [
     310,
     319
    ],
    "deepnote_to_be_reexecuted": false,
    "execution_millis": 2128,
    "execution_start": 1644836561758,
    "source_hash": "d32c3bd8",
    "tags": []
   },
   "outputs": [
    {
     "data": {
      "image/png": "[encoded data removed]",
      "text/plain": [
       "<Figure size 1440x576 with 2 Axes>"
      ]
     },
     "metadata": {
      "needs_background": "light"
     },
     "output_type": "display_data"
    }
   ],
   "source": [
    "#plotting the cluster grid of the monomer grid we used in 1f)\n",
    "\n",
    "def plot_adjacent(grid1,grid2):\n",
    "\n",
    "    #The rest of the code is taken from the polymer plot function and the monomer plot function\n",
    "\n",
    "    fig, axs = plt.subplots(1,2,figsize = (20,8)) #create adjacent subplots\n",
    "\n",
    "    n = len(grid2)\n",
    "\n",
    "    cmap = colors.ListedColormap(['blue', 'gray','red']) #choosing colors to plot\n",
    "    bounds = [-n,-0.5,0.5,n] #defining the bounds for the colors\n",
    "\n",
    "    norm = colors.BoundaryNorm(bounds, cmap.N)\n",
    "    #fig2, ax2 = plt.subplots()\n",
    "\n",
    "    axs[0].imshow(grid2, cmap=cmap, norm=norm)\n",
    "\n",
    "    plt.subplots_adjust(top=0.85)\n",
    "    plt.tight_layout()\n",
    "\n",
    "    axs[0].title.set_text('Grid with monomer values')\n",
    "    axs[0].title.set_size(16)\n",
    "    axs[1].title.set_text('Grid with cluster values')\n",
    "    axs[1].title.set_size(16)\n",
    "\n",
    "\n",
    "    M = np.amax(grid1) \n",
    "    min_val, max_val = -M, M\n",
    "    axs[1].matshow(grid1)\n",
    "    \n",
    "   \n",
    "\n",
    "\n",
    "    plt.show()\n",
    "    \n",
    "grid_1f = data['T200']\n",
    "grid_1f_copy = np.copy(grid_1f)\n",
    "cluster_grid_1f,num_clusters = cluster_iteration(grid_1f)\n",
    "\n",
    "#print(cluster_iteration(copy_)[0])\n",
    "plot_adjacent(cluster_grid_1f,grid_1f_copy)"
   ]
  },
  {
   "cell_type": "markdown",
   "metadata": {
    "cell_id": "40ad635f-6a19-4202-8b93-a80f85d55d59",
    "deepnote_cell_type": "markdown",
    "tags": []
   },
   "source": [
    "We have now implemented enough functions to do a large scale simulation. We want to calculate the expected value <d> of the cluster size for 10 evenly spaced temperature between 100 and 1000. <d> can be calculated by taking the number of monomers and dividing it by the number of clusters. As stated in the introduction do we use the mean value as an approximation for the expected value. We take the average over 30 <d> values for each temperature. Becuse of the Central limit theorem the approximation will tend towards a normal distribution, where the average is an unbiased estimator.\n",
    "    \n",
    "As described in the task we take our first measurement after t_equil steps, then take a measurement every thousand steps after that. The run time is still low (< 30 seconds) so we a use higher t_equil, t_max = 150000 instead of 100000. This helps ensure that we reach equilibrium by the time we start measurements. We take 30 measurements, n = 30. \n",
    "\n",
    "We run the simulation twice to see how 'd' varies for different randomly generated start grids.\n",
    "\n",
    "The following functions prepare the simulation.\n",
    "calc_T_equil calculates t_equil for a given temperature. \n",
    "montecarlo2 implements the neccesary changes to the original montecarlo method. It now also returns a list of the grids we are interested in measuring"
   ]
  },
  {
   "cell_type": "code",
   "execution_count": 12,
   "metadata": {
    "cell_id": "763c9792-0d14-4f55-a571-fb565dd7f8a8",
    "deepnote_cell_type": "code",
    "deepnote_output_heights": [
     250
    ],
    "deepnote_to_be_reexecuted": false,
    "execution_millis": 243,
    "execution_start": 1644836563972,
    "source_hash": "19659642",
    "tags": []
   },
   "outputs": [],
   "source": [
    "#1h\n",
    "#@jit(nopython=True)\n",
    "\n",
    "#function that calculates the equilibrium time of a given temperature\n",
    "def calc_T_equal(T):\n",
    "    tmax=150000\n",
    "    s=1/200\n",
    "    tlow=100\n",
    "    c=10000\n",
    "    return int(tmax*np.exp(-s*(T-tlow))+c)\n",
    "\n",
    "#@jit(nopython=True)\n",
    "\n",
    "#this is the monte carlo method used for 1h. \n",
    "#it is the same as before except it returns a list of the 10 grids where we are supposed to measure the grid size\n",
    "#\n",
    "def montecarlo2(grid, steps, T):\n",
    "    \n",
    "    \n",
    "    kB = 1.38E-23\n",
    "    B = 1/(kB*T)\n",
    "    d_list = 0\n",
    "    grid_list = []  #create the grid list\n",
    "    num_heat_trans = 0\n",
    "    \n",
    "    num_e_diff = 0\n",
    "    \n",
    "    num_monomers = len(np.argwhere(grid))\n",
    "    \n",
    "    m = int(num_monomers/2)\n",
    "    \n",
    "    for i in range(steps):\n",
    "        \n",
    "        newgrid = grid.copy()\n",
    "        \n",
    "        \n",
    "        abs_monomer = rdm.randint(1,m)\n",
    "        monomer_value = abs_monomer* (rdm.randint(0,1)-0.5)*2\n",
    "        \n",
    "        direction = rdm.randint(0,3)\n",
    "        \n",
    "        newgrid = move_monomer(grid, monomer_value, direction)\n",
    "        \n",
    "        E_n = grid_energy(newgrid)\n",
    "        E = grid_energy(grid)\n",
    "        \n",
    "        if i > calc_T_equal(T) :\n",
    "            if i % 1000 == 0:\n",
    "                grid_list.append(grid) #append the grids at the given steps\n",
    "        \n",
    "        if E_n < E:\n",
    "            num_e_diff += 1 \n",
    "            grid = newgrid.copy()\n",
    "                \n",
    "        elif rdm.random() < np.exp(-B*(E_n-E)):\n",
    "                num_heat_trans += 1\n",
    "                grid = newgrid.copy()\n",
    "    return grid, grid_list\n",
    "\n",
    "grid_e = generate_grid_of_monomers(15,25)\n"
   ]
  },
  {
   "cell_type": "markdown",
   "metadata": {
    "cell_id": "b72e2f20-29d1-490e-a1bd-8ce80b115145",
    "deepnote_cell_type": "text-cell-p",
    "is_collapsed": false,
    "tags": []
   },
   "source": [
    "1h) large_sim_montecarlo executes the large scale montecarlo function. It runs the simulation for evenly spaced temperatures from 100 to 1000"
   ]
  },
  {
   "cell_type": "code",
   "execution_count": 13,
   "metadata": {
    "cell_id": "4db83cc5-b615-49be-b06c-7c776976f63e",
    "deepnote_cell_type": "code",
    "deepnote_output_heights": [
     null,
     280,
     null,
     280,
     280
    ],
    "deepnote_to_be_reexecuted": false,
    "execution_millis": 54479,
    "execution_start": 1644836564260,
    "source_hash": "1dc3acfa",
    "tags": []
   },
   "outputs": [
    {
     "name": "stdout",
     "output_type": "stream",
     "text": [
      "runtime: 10.116533041000366\n"
     ]
    },
    {
     "data": {
      "image/png": "[encoded data removed]",
      "text/plain": [
       "<Figure size 432x288 with 1 Axes>"
      ]
     },
     "metadata": {
      "needs_background": "light"
     },
     "output_type": "display_data"
    },
    {
     "name": "stdout",
     "output_type": "stream",
     "text": [
      "runtime: 11.228641986846924\n"
     ]
    },
    {
     "data": {
      "image/png": "[encoded data removed]",
      "text/plain": [
       "<Figure size 432x288 with 1 Axes>"
      ]
     },
     "metadata": {
      "needs_background": "light"
     },
     "output_type": "display_data"
    },
    {
     "data": {
      "image/png": "[encoded data removed]",
      "text/plain": [
       "<Figure size 432x288 with 1 Axes>"
      ]
     },
     "metadata": {
      "needs_background": "light"
     },
     "output_type": "display_data"
    }
   ],
   "source": [
    "\n",
    "#@jit(nopython=True)\n",
    "def large_sim_montecarlo (N, M):\n",
    "    start_time = time()\n",
    "    size_list=[] #list we will add the avg cluster sizes to\n",
    "    std_list = [] #list we will add the stds to\n",
    "    for T in range(100,1100,100): #iterating over the temperatures 100, 200, ..1000\n",
    "        \n",
    "        rand_grid = generate_grid_of_monomers(N,M) #initial grid\n",
    "        sum_=0 #we use this to get sum of the size measurements\n",
    "        cluster_size_list = [] # we use this list and np.std to calculate the standard deviation\n",
    "        grid,grid_liste = montecarlo2(rand_grid, calc_T_equal(T)+30000 , T) \n",
    "\n",
    "        #we get grid_liste which is the list of the grids that we want to take measurements of\n",
    "        #meaning with 1000 steps in between and after t_equil\n",
    "\n",
    "        for element in grid_liste:\n",
    "            num_clusters = cluster_iteration(element)[1] #cluster_recursion gives the number of clusters in the grids we want to measure\n",
    "            cluster_size_list.append(2*M/num_clusters)\n",
    "            sum_ += 2*M/num_clusters #this gives us the average cluster size from the number of clusters \n",
    "\n",
    "        stdev = np.std(cluster_size_list)                   \n",
    "        size_avg = sum_/len(grid_liste) #this gets us the average\n",
    "\n",
    "        size_list.append(size_avg) #we add the average for this temperature to the list of averages\n",
    "        std_list.append(stdev)\n",
    "\n",
    "    run_time = time() - start_time\n",
    "    print('runtime:',run_time)\n",
    "        \n",
    "    return size_list,std_list\n",
    "        \n",
    "    \n",
    "#plotting the avg size and temperature against each other\n",
    "T_list1=np.linspace(100,1000,10)\n",
    "d_list1,std_list1=large_sim_montecarlo (15, 25)\n",
    "plt.plot(T_list1,d_list1)\n",
    "plt.ylabel(\"<avg size>\")\n",
    "plt.xlabel(\"temp\")\n",
    "\n",
    "\n",
    "list_std1 = []\n",
    "for i in range(len(d_list1)):\n",
    "    list_std1.append(d_list1[i]+std_list1[i])\n",
    "\n",
    "list_std2 = []\n",
    "for i in range(len(d_list1)):\n",
    "    list_std2.append(d_list1[i]-std_list1[i])\n",
    "\n",
    "plt.plot(T_list1,list_std1,'--')\n",
    "plt.plot(T_list1,list_std2,'--')\n",
    "plt.title('avg size with standard deviation')\n",
    "\n",
    "plt.show()\n",
    "\n",
    "\n",
    "T_list2=np.linspace(100,1000,10)\n",
    "d_list2,std_list2=large_sim_montecarlo (15, 25)\n",
    "plt.plot(T_list2,d_list2)\n",
    "plt.plot(T_list1,d_list1)\n",
    "\n",
    "plt.ylabel(\"<avg size>\")\n",
    "plt.xlabel(\"temp\")\n",
    "plt.title('2 different simulations comparison')\n",
    "\n",
    "plt.show()\n",
    "\n",
    "difference=[]\n",
    "for i in range (len(d_list2)):\n",
    "    difference.append(abs(d_list2[i]-d_list1[i]))\n",
    "\n",
    "\n",
    "plt.plot(T_list1,difference)\n",
    "plt.ylabel(\"abs(d1-d2)\")\n",
    "plt.xlabel(\"temp\")\n",
    "plt.title('abs difference between 2 simulations')\n",
    "plt.show()\n",
    "plt.show()"
   ]
  },
  {
   "cell_type": "markdown",
   "metadata": {
    "cell_id": "ce75b54e-2339-400f-b1bd-c22c063ad414",
    "deepnote_cell_type": "markdown",
    "tags": []
   },
   "source": [
    "As we see from the plot d decreases with higher temperatur. Meaning that higher temperatures incentivise smaller clusters\n",
    "\n",
    "We have that $\\beta = \\frac{1}{k_{B}T}$ decrases with higher temperatur.\n",
    "Which means that  $ exp(-\\beta(E_{new}-E) )$  increase, and the possibility of a movement due to the temperatur is higher.\n",
    "This means that eventough a cluster with many monomers and low energy is formed the chance of a monomer leaving this cluster is higher.\n",
    "\n",
    "The average cluster size deviate more for lower temperatures. This is because at lower temperature the start grid is more significant. A monomer is less likely to move away from a low energy cluster, therefor the cluster that are randomly made in the start grid has a big effect on the movement of the monomers."
   ]
  },
  {
   "cell_type": "markdown",
   "metadata": {
    "cell_id": "a0b62bcf-2842-445f-b1fe-0c8dc69d69fa",
    "deepnote_cell_type": "text-cell-h1",
    "is_collapsed": false,
    "tags": []
   },
   "source": [
    "# Polymers"
   ]
  },
  {
   "cell_type": "markdown",
   "metadata": {
    "cell_id": "a06b8e37-cb53-47f0-871b-f44a1c5f2d16",
    "deepnote_cell_type": "markdown",
    "tags": []
   },
   "source": [
    "We have until this point only discussed the movements of seperate monomers, and how they form clusters. \n",
    "Further in the simulations we will focus on monomers moving together as polymers. Polymer are bigger structures than monomers, and are later in this task able to change shape. These features make the numerical methods required more complex.\n",
    "\n",
    "In our simulation we will only consider polymers that can not split up. This means that movements that cause the polymer to break are deemed non valid.\n",
    "\n",
    "We start with generating a random grid with 2*M polymers of size L in 2a)."
   ]
  },
  {
   "cell_type": "code",
   "execution_count": 14,
   "metadata": {
    "cell_id": "b9f554cf-7e84-4fc7-9393-3972b5f4581f",
    "deepnote_cell_type": "code",
    "deepnote_output_heights": [
     null,
     254
    ],
    "deepnote_to_be_reexecuted": false,
    "execution_millis": 3385,
    "execution_start": 1644836618916,
    "source_hash": "aa54338f",
    "tags": []
   },
   "outputs": [
    {
     "data": {
      "image/png": "[encoded data removed]",
      "text/plain": [
       "<Figure size 432x288 with 1 Axes>"
      ]
     },
     "metadata": {
      "needs_background": "light"
     },
     "output_type": "display_data"
    }
   ],
   "source": [
    "@jit(nopython=True)\n",
    "\n",
    "def generate_grid_of_polymers(n,m,L):\n",
    "    grid = np.zeros((n,n),dtype=np.dtype('i2')) # oppretter griden\n",
    "    \n",
    "    # fills the grid with values from -m to m\n",
    "    for i in range(m):\n",
    "        while True:\n",
    "            polym_list=[] #list of monomerens in polymer\n",
    "            x_rand = rdm.randint(0,n-1) #creating random coordinates\n",
    "            y_rand = rdm.randint(0,n-1) \n",
    "            if grid[x_rand,y_rand] == 0:\n",
    "                grid[x_rand,y_rand] = i+1 \n",
    "                polym_list.append([x_rand,y_rand])\n",
    "                \n",
    "                num = 0\n",
    "                while num < (L-1):\n",
    "                    random_base = polym_list[rdm.randint(0,len(polym_list)-1)] #chosing ran monom from polymer\n",
    "                    neighb_spaces = nearest_neighbors(grid,random_base[0],random_base[1]) #finding neighb\n",
    "                    ran_num_added_monomers = rdm.randint(0,3) #adding a random number of monom\n",
    "                    for j in range (ran_num_added_monomers):\n",
    "                        if num < (L-1) : \n",
    "                            rand_neighb = neighb_spaces[rdm.randint(0,3)] #chosing one neighbour\n",
    "                            if grid[rand_neighb[0],rand_neighb[1]] == 0 :\n",
    "                                grid[rand_neighb[0],rand_neighb[1]]= i+1 #assignes the nabour the same value as the base\n",
    "                                polym_list.append([rand_neighb[0],rand_neighb[1]]) \n",
    "                                num +=1\n",
    "                \n",
    "                 \n",
    "                \n",
    "                        \n",
    "                break                    \n",
    "        \n",
    "        \n",
    "        \n",
    "        while True: #again for negative values\n",
    "            polym_list=[]\n",
    "            x_rand = rdm.randint(0,n-1)\n",
    "            y_rand = rdm.randint(0,n-1)\n",
    "            if grid[x_rand,y_rand] == 0:\n",
    "                grid[x_rand,y_rand] = -(i+1)\n",
    "                polym_list.append([x_rand,y_rand])\n",
    "                \n",
    "                num = 0\n",
    "                while num < (L-1):\n",
    "                    random_base = polym_list[rdm.randint(0,len(polym_list)-1)] #chosing ran monom\n",
    "                    neighb_spaces = nearest_neighbors(grid,random_base[0],random_base[1])\n",
    "                    ran_num_added_monomers = rdm.randint(0,3)\n",
    "                    for j in range (ran_num_added_monomers):\n",
    "                        if num < (L-1) :\n",
    "                            rand_neighb = neighb_spaces[rdm.randint(0,3)]\n",
    "                            if grid[rand_neighb[0],rand_neighb[1]] == 0 :\n",
    "                                grid[rand_neighb[0],rand_neighb[1]]=-( i+1)\n",
    "                                polym_list.append([rand_neighb[0],rand_neighb[1]])\n",
    "                                num +=1\n",
    "                \n",
    "                \n",
    "                \n",
    "                break\n",
    "        \n",
    "        \n",
    "    return grid\n",
    "\n",
    "\n",
    "\n",
    "\n",
    "\n",
    "#example\n",
    "\n",
    "grid_of_pol = generate_grid_of_polymers(10,3,5)\n",
    "plotte_poly2(grid_of_pol,'test_grid')\n",
    "\n",
    "\n"
   ]
  },
  {
   "cell_type": "markdown",
   "metadata": {
    "cell_id": "2675f635-f088-4c9c-9f33-d35b53dbd47e",
    "deepnote_cell_type": "markdown",
    "tags": []
   },
   "source": [
    "There are several ways to define randomly constructing a polymer. Which one we chose will affect the polymer´s structure. Our method is this:\n",
    "1. A monomer is randomly placed on the grid\n",
    "2. The monomer is given a random number of randomly placed neighbors\n",
    "3. A random monomer is chosen from the polymer\n",
    "4. This monomer is given a random number of neighbors, as long as the size does not exceed L\n",
    "5. Steps 3 and 4 are repeated until the polymer has size L \n",
    "\n",
    "\n",
    "This way of making polymers will favour a more compact, box-like structure. This affects the movement possibilities of the polymer, particularily with rigid_move. A box will have bigger chance of moving inn all directions, than a more snake-like structure.\n",
    "\n",
    "An important part of the Montecarlo simulation is calculating the energy of the grid. We now modify our energy function from part 1 to work with polymers."
   ]
  },
  {
   "cell_type": "markdown",
   "metadata": {
    "cell_id": "7b3ee9dd-9eb0-409a-880e-00c49356242d",
    "deepnote_cell_type": "text-cell-p",
    "is_collapsed": false,
    "tags": []
   },
   "source": [
    "2a) This energy function works somewhat differently to the one in 1d). It now uses np.argwhere to find the coordinates of all the monomers in the grid, then it uses nearest_neighbor on each one. Lastly it calculates the energy of all monomer pairs belonging to different polymers."
   ]
  },
  {
   "cell_type": "code",
   "execution_count": 15,
   "metadata": {
    "cell_id": "ebc6a66f-e2ce-4345-8c4a-c2744083bc56",
    "deepnote_cell_type": "code",
    "deepnote_to_be_reexecuted": false,
    "execution_millis": 6,
    "execution_start": 1644836622306,
    "source_hash": "d10bf570",
    "tags": []
   },
   "outputs": [],
   "source": [
    "#2b\n",
    "@jit(nopython=True)\n",
    "def grid_energy_poly(grid):\n",
    "    \n",
    "    n = len(grid)\n",
    "    \n",
    "    E = 0\n",
    "    a = 91E-6\n",
    "    e0 = 8.85E-12\n",
    "    e = 1.6E-19\n",
    "    Alpha = ((e)**2)/(4*np.pi*(a**2)*78*e0)\n",
    "    \n",
    "    indexes = np.argwhere(grid) #Find coord for monomers. (non zero values)\n",
    "    \n",
    "    #print(indexes)\n",
    "    \n",
    "    for element in indexes: #each element is a monomer\n",
    "        x = element[0] #finding coord.\n",
    "        y = element[1]\n",
    "        neighbors = nearest_neighbors(grid,x,y)\n",
    "        for nabo in neighbors:\n",
    "            x2 = nabo[0] #finding neighbour coord.\n",
    "            y2 = nabo[1]\n",
    "            \n",
    "            test = grid[x,y]*grid[x2,y2] #calculating energy\n",
    "            if test != 0:\n",
    "                if grid[x,y] != grid[x2,y2]: #applying energy if neighbour is a nonzero and not in the same polymer.\n",
    "                    E += test/abs(test)\n",
    "    \n",
    "    E = E*Alpha*0.5 #We divide by 2 because each pair is counted twice\n",
    "    \n",
    "    \n",
    "    return E\n",
    "\n",
    "\n",
    "\n"
   ]
  },
  {
   "cell_type": "markdown",
   "metadata": {
    "cell_id": "4793b865-2a5f-433d-969a-763d26880ed3",
    "deepnote_cell_type": "markdown",
    "tags": []
   },
   "source": [
    "\n",
    "We now need a function for moving the polymers. The polymers can move in several ways. We will start with the simplest form of movement. A rigid move where the entire polymer moves in the same direction. If any part of the polymer is blocked the polymer will not move.\n",
    "\n",
    "Numpy has a function called np.roll that we will need later. However, jit doesnt allow you to call np.roll on 2d arrays, so we implemented the function ourselves. The function moves all nonzero elements in an array in a given direction, and will be useful in the movement functions"
   ]
  },
  {
   "cell_type": "code",
   "execution_count": 16,
   "metadata": {
    "cell_id": "e8117fac-a47c-4a3f-816f-5f655650a7d1",
    "deepnote_cell_type": "code",
    "deepnote_output_heights": [
     250,
     250
    ],
    "deepnote_to_be_reexecuted": false,
    "execution_millis": 0,
    "execution_start": 1644836622365,
    "source_hash": "a8c9344b",
    "tags": []
   },
   "outputs": [],
   "source": [
    "@jit(nopython=True)\n",
    "def nproll (grid,back_forw,  down_right): \n",
    "    \n",
    "    \n",
    "    n = len(grid)\n",
    "    newgrid = grid.copy() \n",
    "    \n",
    "    if back_forw == 1:\n",
    "        if down_right == 1:\n",
    "            for i in range(n): \n",
    "                for l in range(n):\n",
    "                    newgrid[i,l] = grid[i,(l+1) % n]\n",
    "    \n",
    "    if back_forw == -1:\n",
    "        if down_right == 1:\n",
    "            for i in range(n): \n",
    "                for l in range(n):\n",
    "                    newgrid[i,l] = grid[i,(l-1) %n]\n",
    "                    \n",
    "                    \n",
    "    if back_forw == 1:\n",
    "        if down_right == 0:\n",
    "            for i in range(n): \n",
    "                for l in range(n):\n",
    "                    newgrid[i,l] = grid[(i-1)%n ,l]\n",
    "                    \n",
    "    if back_forw == -1:\n",
    "        if down_right == 0:\n",
    "            for i in range(n): \n",
    "                for l in range(n):\n",
    "                    newgrid[i,l] = grid[(i+1)%n ,l]\n",
    "                    \n",
    "                    \n",
    "    return newgrid\n",
    "        "
   ]
  },
  {
   "cell_type": "markdown",
   "metadata": {
    "cell_id": "cdc32ded-6683-4d21-983c-7186f024b98b",
    "deepnote_cell_type": "markdown",
    "tags": []
   },
   "source": [
    "2c) \n",
    "We can now construct the function that employs rigid polymer movement. It works like this:\n",
    "\n",
    "1: We have three grids, the original grid, one grid where the polymer we want to move is set to zero. And one grid where all other polymers is set to zero.\n",
    "\n",
    "2: We use our roll function to move the polymer in the third grid. \n",
    "\n",
    "3: We iterate through the second and third grid and check for monomers that overlap. \n",
    "\n",
    "4: If there is no overlap we  moved grid = second + third grid\n",
    "   If there is overlap we return the original grid"
   ]
  },
  {
   "cell_type": "code",
   "execution_count": 17,
   "metadata": {
    "cell_id": "b9fa5d07-126d-4659-bca7-351a53db1be9",
    "deepnote_cell_type": "code",
    "deepnote_output_heights": [
     254,
     254
    ],
    "deepnote_to_be_reexecuted": false,
    "execution_millis": 4146,
    "execution_start": 1644836622408,
    "source_hash": "5ef1b8bc",
    "tags": []
   },
   "outputs": [],
   "source": [
    "#2c\n",
    "@jit(nopython=True)\n",
    "\n",
    "\n",
    "\n",
    "\n",
    "def move_polymer(grid,m,direct): #direction : 0,1,2,3 = down, right, up, left\n",
    "    new_grid=np.copy(grid) #copying grid\n",
    "    indexes = np.argwhere (grid) #Finding all monomers with value\n",
    "    #direct == 0: #down\n",
    "    zero_grid = np.copy(new_grid) #copying grid\n",
    "    for x in range (len(zero_grid[0])):\n",
    "        for y in range (len(zero_grid[0])):\n",
    "            if zero_grid[x,y] != m:\n",
    "                zero_grid[x,y]=0 #making a grid where only the chosen polum has value\n",
    "                    \n",
    "                    \n",
    "    new_grid=new_grid-zero_grid #setting chosen polym value = 0 in old grid\n",
    "    if direct == 0:\n",
    "        zero_grid = nproll(zero_grid,1,0) #shifting all nonzero values one down.\n",
    "        \n",
    "    elif direct == 1:\n",
    "        zero_grid = nproll(zero_grid,1,1) #shifting right\n",
    "        \n",
    "    elif direct == 2:\n",
    "        zero_grid = nproll(zero_grid,-1,0) #shifting up\n",
    "        \n",
    "    elif direct == 3:\n",
    "        zero_grid = nproll(zero_grid,-1,1) #shifting left\n",
    "        \n",
    "    else:\n",
    "        print (\"not valid direction\")\n",
    "        return grid\n",
    "    \n",
    "    for x in range (len(zero_grid[0])):\n",
    "        for y in range (len(zero_grid[0])):\n",
    "                \n",
    "            if (zero_grid[x,y] != 0 and new_grid [x,y]!=0): #checking if polym overlap\n",
    "                #print (\"Illegal move\")\n",
    "                return grid\n",
    "                \n",
    "                    \n",
    "                \n",
    "    new_grid = zero_grid + new_grid \n",
    "    return new_grid\n",
    "              \n",
    "\n"
   ]
  },
  {
   "cell_type": "markdown",
   "metadata": {
    "cell_id": "74b58bc3-5419-4a20-be43-cd4245c4afd9",
    "deepnote_cell_type": "text-cell-p",
    "is_collapsed": false,
    "tags": []
   },
   "source": [
    "2d) We now implement alghorithm 2 with polymer systems and rigid movement. The method is the same as in 1e),  but now with different movement and energy functions. We also plot the grid and energy for the given parameters."
   ]
  },
  {
   "cell_type": "code",
   "execution_count": 18,
   "metadata": {
    "cell_id": "781f6886-1427-446a-a7a0-fac5e3539a11",
    "deepnote_cell_type": "code",
    "deepnote_output_heights": [
     null,
     254,
     322,
     254,
     254,
     254,
     326,
     254
    ],
    "deepnote_to_be_reexecuted": false,
    "execution_millis": 12949,
    "execution_start": 1644836626566,
    "source_hash": "6d8e1836",
    "tags": []
   },
   "outputs": [
    {
     "name": "stdout",
     "output_type": "stream",
     "text": [
      "Time used:  9.88 s\n",
      "Amount of random movements due to heat:  79.93 %\n",
      "Time used:  6.99 s\n",
      "Amount of random movements due to heat:  87.06 %\n"
     ]
    },
    {
     "data": {
      "image/png": "[encoded data removed]",
      "text/plain": [
       "<Figure size 936x576 with 1 Axes>"
      ]
     },
     "execution_count": 18,
     "metadata": {},
     "output_type": "execute_result"
    },
    {
     "data": {
      "image/png": "[encoded data removed]",
      "text/plain": [
       "<Figure size 432x288 with 1 Axes>"
      ]
     },
     "metadata": {
      "needs_background": "light"
     },
     "output_type": "display_data"
    },
    {
     "data": {
      "image/png": "[encoded data removed]",
      "text/plain": [
       "<Figure size 432x288 with 1 Axes>"
      ]
     },
     "metadata": {
      "needs_background": "light"
     },
     "output_type": "display_data"
    },
    {
     "data": {
      "image/png": "[encoded data removed]",
      "text/plain": [
       "<Figure size 936x576 with 1 Axes>"
      ]
     },
     "metadata": {
      "needs_background": "light"
     },
     "output_type": "display_data"
    },
    {
     "data": {
      "image/png": "[encoded data removed]",
      "text/plain": [
       "<Figure size 936x576 with 1 Axes>"
      ]
     },
     "metadata": {
      "needs_background": "light"
     },
     "output_type": "display_data"
    }
   ],
   "source": [
    "# 2d\n",
    "#@jit(nopython=True)\n",
    "import time \n",
    "\n",
    "\n",
    "\n",
    "\n",
    "def montecarlo_poly (grid, N, M, T): \n",
    "    start_time = time.time()\n",
    "    kB = 1.38E-23\n",
    "    B = 1/(kB*T)\n",
    "    E_initial = grid_energy_poly(grid)\n",
    "    E_list = np.zeros(N) #List of energies for tracking\n",
    "    E_list[0]=E_initial\n",
    "    random_movement_count = 0\n",
    "    for i in range (N):\n",
    "        E = grid_energy_poly(grid) #Calculate energy\n",
    "        random_polymer = rdm.randint(-M,M) \n",
    "        while random_polymer == 0:\n",
    "            random_polymer = rdm.randint(-M,M) #Chosing random polymer   \n",
    "        random_direction = rdm.randint(0,3) #Chosing random direction\n",
    "        \n",
    "        test_grid = move_polymer(grid,random_polymer,random_direction) #moving\n",
    "        rand_float = rdm.uniform(0,1) #generate random number between 0,1\n",
    "        \n",
    "    \n",
    "        new_grid = np.copy(test_grid) #\n",
    "        E_new = grid_energy_poly(new_grid)\n",
    "        #print (E_new-E)\n",
    "        if E_new < E :\n",
    "            grid = new_grid.copy()\n",
    "            E_list[i] = E_new\n",
    "                \n",
    "        elif rand_float < np.exp(-B*(E_new-E)):\n",
    "            grid = new_grid.copy()\n",
    "            E_list[i] = E_new\n",
    "            random_movement_count += 1\n",
    "                \n",
    "        else:\n",
    "            E_list[i] = E\n",
    "    stop_time=time.time()\n",
    "    print (\"Time used: \", round((stop_time-start_time),2), \"s\")\n",
    "    print(\"Amount of random movements due to heat: \", round(random_movement_count/N*100,2), \"%\")\n",
    "    return grid,E_list\n",
    "\n",
    "grid_of_poly2d = generate_grid_of_polymers(15,5,12)\n",
    "\n",
    "            \n",
    "MC_grid2d, Energy2d = montecarlo_poly (grid_of_poly2d, 30000, 5, 200)\n",
    "\n",
    "plotte_poly2(MC_grid2d, 'T = 200')\n",
    "\n",
    "#Plotting energy\n",
    "\n",
    "X_list2d=np.arange(0,len(Energy2d))\n",
    "\n",
    "plt.figure(figsize = (13,8))\n",
    "plt.plot(X_list2d,Energy2d)\n",
    "plt.title('E[e-20], T = 200')\n",
    "\n",
    "plt.figure(1)\n",
    "\n",
    "\n",
    "\n",
    "\n",
    "\n",
    "grid_of_poly2d = generate_grid_of_polymers(30,5,12)\n",
    "\n",
    "            \n",
    "MC_grid2d, Energy2d = montecarlo_poly (grid_of_poly2d, 30000, 5, 200)\n",
    "\n",
    "plotte_poly2(MC_grid2d,'T = 500')\n",
    "\n",
    "#Plotting energy\n",
    "\n",
    "X_list2d=np.arange(0,len(Energy2d))\n",
    "\n",
    "plt.figure(figsize = (13,8))\n",
    "plt.plot(X_list2d,Energy2d)\n",
    "plt.title('E[e-20], T = 500')\n",
    "plt.figure(2)\n",
    "\n",
    "\n",
    "\n",
    "\n"
   ]
  },
  {
   "cell_type": "markdown",
   "metadata": {
    "cell_id": "f53e120e-0200-472e-929c-1b684121148d",
    "deepnote_cell_type": "markdown",
    "tags": []
   },
   "source": [
    "In the first simulation with N=15 we see that the grid is very crowded. There will not be many possibilities for the polymers to move. But when they move there is a bigger chance for them to hit another polymer. Therefore the amount of movements due to heat is lower. \n",
    "\n",
    "For N=30 there is a lot of space for the polymers to move, and the chance of them hitting another polymer is lower. So they move mostly due to randomness. We note that the energy very clearly fluctuates around 0. This is because when no polymers have neighbors the energy clearly is 0.\n",
    "\n",
    "We see that the monomer MonteCarlo function used about 1s, while the polymer used a bit over 7s. The energy calculating functions similarly, so it is the movement functions that have the greatest impact on the time differences. This makes sense, as a monover move only requires us to check if a single square is occupied. Whereas a polymer move needs to check every tile the polymer moves to. We also have to iterate over the grid to find the coordinates of every element in the monomer."
   ]
  },
  {
   "cell_type": "markdown",
   "metadata": {
    "cell_id": "c3791fd2-4bcb-4142-81c8-9e37be92d58d",
    "deepnote_cell_type": "markdown",
    "tags": []
   },
   "source": [
    "2e) \n",
    "To make our simulations more realistic we improve the polymer movement function, by implementing a function for medium flexibility movement. The polymers will now be able to change their shape to enable more movement, by only causing the rows/columns that are blocked to not move.   \n",
    "\n",
    "This way of defining movement makes it possible for a polymer to break  apart, because of this we also implement a function to check if the polymer is broken. And if it is, the move is canceled."
   ]
  },
  {
   "cell_type": "code",
   "execution_count": 19,
   "metadata": {
    "cell_id": "5a84f976-c4dc-4af5-b3d4-384713067837",
    "deepnote_cell_type": "code",
    "deepnote_output_heights": [
     null,
     328,
     254
    ],
    "deepnote_to_be_reexecuted": false,
    "execution_millis": 5,
    "execution_start": 1644836639538,
    "source_hash": "c5b65a52",
    "tags": []
   },
   "outputs": [],
   "source": [
    "\n",
    "@jit(nopython=True)\n",
    "def medium_flex_move_cluster(grid,m,direct): #direction : 0,1,2,3 = up, left, down, right\n",
    "    number_of_pol = np.amax(grid) * 3\n",
    "    L=0\n",
    "    \n",
    "    if direct == 0: #up\n",
    "        new_grid = np.copy(grid) \n",
    "        transposed_new_grid = new_grid.transpose() #transpose for easier iteration\n",
    "        for x in range(len(grid[0])):\n",
    "            for y in range(len(grid[0])):\n",
    "                if transposed_new_grid[x,y]==m: #finding all monomer with m value                   \n",
    "                    transposed_new_grid[x,y]=m+x+2*number_of_pol #assigning each row a new value\n",
    "                    \n",
    "    \n",
    "            transposed_new_grid=move_polymer(transposed_new_grid,m+x+2*number_of_pol,1) #tries to move row rigid\n",
    "            moved_monom=np.argwhere(transposed_new_grid==m+x+2*number_of_pol) #finding all monomers with changed value\n",
    "            for i in range (len(moved_monom)):\n",
    "                #print(transposed_new_grid[i])\n",
    "                if transposed_new_grid[moved_monom[i][0],moved_monom[i][1]] == m+x+2*number_of_pol:\n",
    "                    transposed_new_grid[moved_monom[i][0],moved_monom[i][1]] += (-2*number_of_pol - x) #changing value back\n",
    "        new_grid = transposed_new_grid.transpose() #transpose back\n",
    "        \n",
    "        \n",
    "        #same logic for all directions\n",
    "    elif direct == 1: #left\n",
    "        new_grid = np.copy(grid)\n",
    "        for x in range(len(grid[0])):\n",
    "            for y in range(len(grid[0])):\n",
    "                if new_grid[x,y]==m:                    \n",
    "                    new_grid[x,y]=m+x+2*number_of_pol\n",
    "                    \n",
    "    \n",
    "            new_grid=move_polymer(new_grid,m+x+2*number_of_pol,1)\n",
    "            moved_monom=np.argwhere(new_grid==m+x+2*number_of_pol)\n",
    "            for i in range (len(moved_monom)):\n",
    "                if new_grid[moved_monom[i][0],moved_monom[i][1]] == m+x+2*number_of_pol:\n",
    "                    new_grid[moved_monom[i][0],moved_monom[i][1]] += (-2*number_of_pol - x)\n",
    "        \n",
    "        \n",
    "        \n",
    "    \n",
    "    elif direct == 2: #down\n",
    "        new_grid = np.copy(grid)\n",
    "        transposed_new_grid = new_grid.transpose() #For ned, beveg mot høyre\n",
    "        for x in range(len(grid[0])):\n",
    "            for y in range(len(grid[0])):\n",
    "                if transposed_new_grid[x,y]==m:                    \n",
    "                    transposed_new_grid[x,y]=m+x+2*number_of_pol\n",
    "                    \n",
    "    \n",
    "            transposed_new_grid=move_polymer(transposed_new_grid,m+x+2*number_of_pol,3)\n",
    "            moved_monom=np.argwhere(transposed_new_grid==m+x+2*number_of_pol)\n",
    "            for i in range (len(moved_monom)):\n",
    "                #print(transposed_new_grid[i])\n",
    "                if transposed_new_grid[moved_monom[i][0],moved_monom[i][1]] == m+x+2*number_of_pol:\n",
    "                    transposed_new_grid[moved_monom[i][0],moved_monom[i][1]] += (-2*number_of_pol - x)\n",
    "        new_grid = transposed_new_grid.transpose()\n",
    "        \n",
    "        \n",
    "    \n",
    "    elif direct == 3: #right\n",
    "        new_grid = np.copy(grid)\n",
    "        for x in range(len(grid[0])):\n",
    "            for y in range(len(grid[0])):\n",
    "                if new_grid[x,y]==m:                    \n",
    "                    new_grid[x,y]=m+x+2*number_of_pol\n",
    "                    \n",
    "    \n",
    "            new_grid=move_polymer(new_grid,m+x+2*number_of_pol,3)\n",
    "            moved_monom=np.argwhere(new_grid==m+x+2*number_of_pol)\n",
    "            for i in range (len(moved_monom)):\n",
    "                if new_grid[moved_monom[i][0],moved_monom[i][1]] == m+x+2*number_of_pol:\n",
    "                    new_grid[moved_monom[i][0],moved_monom[i][1]] += (-2*number_of_pol - x)\n",
    "        \n",
    "    \n",
    "    \n",
    "    \n",
    "    \n",
    "    \n",
    "    \n",
    "    \n",
    "    cluster_grid = np.copy(new_grid)\n",
    "    \n",
    "    \n",
    "    for x in range (len(cluster_grid)):\n",
    "        for y in range (len(cluster_grid)):\n",
    "            if cluster_grid[x,y] != m :\n",
    "                cluster_grid[x,y] = 0\n",
    "                \n",
    "                \n",
    "            else:\n",
    "                L+=1\n",
    "                x0=x\n",
    "                y0=y\n",
    "                cluster_grid[x,y]+=2*number_of_pol + x*10 + y\n",
    "    \n",
    "\n",
    "    if cluster_iteration(cluster_grid)[1] > 1:\n",
    "        #print(\"not valid\")\n",
    "        return grid\n",
    "        \n",
    "            \n",
    "\n",
    "    \n",
    "    \n",
    "        \n",
    "        \n",
    "    return new_grid"
   ]
  },
  {
   "cell_type": "markdown",
   "metadata": {
    "cell_id": "67736cfb-7190-43f7-bbc6-43920b26c9bb",
    "deepnote_cell_type": "markdown",
    "tags": []
   },
   "source": [
    "Steps in medium flex move:\n",
    "\n",
    "1. If we want to move up or down we transpose the grid. \n",
    "\n",
    "2. We iterate through the grid and assign every monomer in the chosen polymer a new value.\n",
    "\n",
    "3. The value we give them is 3 times M + x, this way every polymer in the same row will have the same value. This is also why we transposed the grid.\n",
    "\n",
    "4. We use rigid move on each row separately.\n",
    "\n",
    "5. To check if the polymer is broken we make a new grid with all others polymers set to zero. We then use cluster_iteration to find the number of clusters in this grid before and after the move. If #clusters > 1 we know that the polymer is broken\n",
    "\n",
    "6. If the polymer is not broken we return the new grid."
   ]
  },
  {
   "cell_type": "markdown",
   "metadata": {
    "cell_id": "02e97d20-03d8-46b6-83f6-2256461bca94",
    "deepnote_cell_type": "text-cell-p",
    "is_collapsed": false,
    "tags": []
   },
   "source": [
    "Now we can implement the montecarlo method with flexible polymer movement:"
   ]
  },
  {
   "cell_type": "code",
   "execution_count": null,
   "metadata": {
    "cell_id": "b445a5bf-3b29-4246-a56f-7eecea241dc2",
    "deepnote_cell_type": "code",
    "deepnote_output_heights": [
     26
    ],
    "deepnote_to_be_reexecuted": false,
    "execution_millis": 6,
    "execution_start": 1644836639554,
    "source_hash": "ccd5bdd",
    "tags": []
   },
   "outputs": [],
   "source": []
  },
  {
   "cell_type": "code",
   "execution_count": 20,
   "metadata": {
    "cell_id": "df2f8c98-d434-4225-b9b0-62ea5d1d6fd7",
    "deepnote_cell_type": "code",
    "deepnote_output_heights": [
     254,
     254,
     254
    ],
    "deepnote_to_be_reexecuted": true,
    "execution_millis": 17923,
    "execution_start": 1644836639622,
    "source_hash": "318a238",
    "tags": []
   },
   "outputs": [],
   "source": [
    "\n",
    "@jit(nopython=True)\n",
    "def montecarlo_poly_flex2 (grid, N, M, T,t_equil):        \n",
    "    kB = 1.38E-23\n",
    "    B = 1/(kB*T)\n",
    "    E_initial = grid_energy_poly(grid)\n",
    "    E_list = np.zeros(N) #List of energies for tracking\n",
    "    E_list[0]=E_initial\n",
    "    #h=1\n",
    "    grid_list=[]\n",
    "    for i in range (N): \n",
    "       \n",
    "        E = grid_energy_poly(grid) #Calculate energy\n",
    "        random_polymer = rdm.randint(-M,M) \n",
    "        while random_polymer == 0:\n",
    "            random_polymer = rdm.randint(-M,M) #Chosing random polymer   \n",
    "        random_direction = rdm.randint(0,3) #Chosing random direction\n",
    "        \n",
    "        test_grid = medium_flex_move_cluster(grid,random_polymer,random_direction) #moving\n",
    "        rand_float = rdm.uniform(0,1) #generate random number between 0,1\n",
    "        \n",
    "        if i > t_equil :\n",
    "            if i % 1000 == 0:\n",
    "                grid_list.append(grid)\n",
    "                \n",
    "        new_grid = np.copy(test_grid) #\n",
    "        E_new = grid_energy_poly(new_grid)\n",
    "        #print (E_new-E)\n",
    "        if E_new < E :\n",
    "            grid = new_grid.copy()\n",
    "            E_list[i] = E_new\n",
    "                \n",
    "        elif rand_float < np.exp(-B*(E_new-E)):\n",
    "            grid = new_grid.copy()\n",
    "            E_list[i] = E_new\n",
    "                \n",
    "        else:\n",
    "            E_list[i] = E\n",
    "    \n",
    "    return grid,E_list, grid_list\n",
    "\n",
    "\n"
   ]
  },
  {
   "cell_type": "code",
   "execution_count": null,
   "metadata": {
    "cell_id": "854e6cc9-a37d-4b6f-af43-de9f74a1d619",
    "deepnote_cell_type": "code",
    "deepnote_output_heights": [
     254,
     254,
     479,
     254
    ],
    "deepnote_to_be_reexecuted": false,
    "execution_millis": 1962,
    "execution_start": 1644836657175,
    "source_hash": "18fe7fa1",
    "tags": []
   },
   "outputs": [],
   "source": []
  },
  {
   "cell_type": "markdown",
   "metadata": {
    "cell_id": "481ed49b-7b9d-4b60-928c-566b9d726b73",
    "deepnote_cell_type": "text-cell-p",
    "is_collapsed": false,
    "tags": []
   },
   "source": [
    "2h) The montecarlo function above includes the neccessary features to make the measurements we want in this task. The method is the same as in 1h) when it comes to obtaining the measurements.  To complete the task we create two functions: "
   ]
  },
  {
   "cell_type": "markdown",
   "metadata": {
    "cell_id": "6b7f2eaf-7276-4a6d-a289-2a8b167f0be2",
    "deepnote_cell_type": "text-cell-p",
    "is_collapsed": false,
    "tags": []
   },
   "source": [
    "mean_cluster_size takes T, M, N, and L as inputs. It generates a random grid of polymers and employs the flex montecarlo method which returns the list of grids that we want to measure. It then calculates the average number of #clusters in the grids, as well as &lt;d&gt;/L. . The function returns both these values, as well the number of measured grids."
   ]
  },
  {
   "cell_type": "markdown",
   "metadata": {
    "cell_id": "3e4f253b-d888-4106-90d2-4d2d2f0d2639",
    "deepnote_cell_type": "text-cell-p",
    "is_collapsed": false,
    "tags": []
   },
   "source": [
    "mean_cluster_size_with_temp_variation&nbsp;runs&nbsp;mean_cluster_size&nbsp;at&nbsp;13&nbsp;evenly&nbsp;spaced&nbsp;temperatures&nbsp;from&nbsp;3 to 39. It adds the values it recieves from mean_cluster_size to lists which are then printed and plotted in a separate function"
   ]
  },
  {
   "cell_type": "code",
   "execution_count": 21,
   "metadata": {
    "cell_id": "54970430-25e1-4921-ab40-b4b330622605",
    "deepnote_cell_type": "code",
    "deepnote_output_heights": [
     468,
     611
    ],
    "deepnote_to_be_reexecuted": true,
    "execution_millis": 750,
    "execution_start": 1644836659153,
    "source_hash": "14560573",
    "tags": []
   },
   "outputs": [
    {
     "name": "stdout",
     "output_type": "stream",
     "text": [
      "3\n",
      "6\n",
      "9\n",
      "12\n",
      "15\n",
      "18\n",
      "21\n",
      "24\n",
      "27\n",
      "30\n",
      "33\n",
      "36\n",
      "39\n",
      "[1.093, 1.181, 1.217, 1.304, 1.657, 1.804, 1.874, 2.218, 3.098, 3.305, 4.524, 5.687, 7.772]\n",
      "[9.224489795918368, 8.673469387755102, 8.387755102040817, 7.877551020408164, 6.346938775510204, 5.938775510204081, 5.673469387755102, 5.0, 4.142857142857143, 3.693877551020408, 2.795918367346939, 2.2244897959183674, 1.5714285714285714]\n",
      "reuntime:  579.8010189533234\n"
     ]
    },
    {
     "data": {
      "image/png": "[encoded data removed]",
      "text/plain": [
       "<Figure size 1152x576 with 2 Axes>"
      ]
     },
     "metadata": {
      "needs_background": "light"
     },
     "output_type": "display_data"
    }
   ],
   "source": [
    "\n",
    "#@jit(nopython=True)\n",
    "def mean_cluster_size(T,M,N,L):\n",
    "    poly_grid = generate_grid_of_polymers(N,M,L)\n",
    "    t_equil = 10000\n",
    "    t = 1000\n",
    "    n = 50\n",
    "    cluster_grid_list = montecarlo_poly_flex2(poly_grid, t_equil+n*t, M, T,t_equil)[2] #Making a list of the grid for eack test\n",
    "    m_len=len(cluster_grid_list) \n",
    "    m_sum=0\n",
    "    d_L_sum=0\n",
    "    for i in range(m_len): #iterating over the grids in the list\n",
    "        grid_copy = np.copy(cluster_grid_list[i])\n",
    "        m_new = cluster_iteration(grid_copy)[1] #finding the number of clusters in each grid\n",
    "        m_sum+=m_new #adding numbers of clusters from each test grid to a sum\n",
    "    \n",
    "        \n",
    "        d_L_sum+=2*M/(m_new) #cluster size will be number of polymers 2M divided by number of clusters m\n",
    "    m_avg = float(m_sum/m_len) #taking the mean value by deviding sum of clusters from all grids by number of grids\n",
    "    return m_avg, m_len, d_L_sum\n",
    "\n",
    "    return m_avg, m_len, d_L_sum\n",
    "\n",
    "def plot_graphs(m_list,d_list):\n",
    "    L_list=np.linspace(3,39,13)\n",
    "\n",
    "    fig,axs = plt.subplots(1,2,figsize =(16,8) )\n",
    "    \n",
    "    \n",
    "\n",
    "    axs[0].plot(L_list,m_list)\n",
    "    axs[1].plot(L_list,d_list)\n",
    "    plt.subplots_adjust(top=0.85)\n",
    "    plt.tight_layout()\n",
    "\n",
    "    axs[0].title.set_text('Avg #cluster by L')\n",
    "    \n",
    "    axs[0].title.set_size(16)\n",
    "    axs[1].title.set_text('Avg polymers per cluster')\n",
    "  \n",
    "    axs[1].title.set_size(16)\n",
    "\n",
    "   \n",
    "\n",
    "\n",
    "    plt.show()\n",
    "\n",
    "#data_2h = np.load('lists_2h.npz')\n",
    "#plot_graphs(data_2h['m_vals'],data_2h['d_vals'])\n",
    "\n",
    "def mean_cluster_size_with_temp_variation():\n",
    "    m_list=[]\n",
    "    d_L_list=[]\n",
    "    start_time = time.time()\n",
    "\n",
    "    for L in range(3,40,3):\n",
    "        m_avg, m_len, d_L_sum = mean_cluster_size(300,5,30,L)\n",
    "        m_list.append(m_avg)    #taking the mean value by deviding sum of clusters from all grids by number of grids\n",
    "        d_L_list.append(round(d_L_sum/m_len,3))  #average cluster size will be number of polymers 2M divided by number of clusters m\n",
    "        print(L) #This simply lets us assess the progress of the function\n",
    "    print(d_L_list)\n",
    "    print(m_list)\n",
    "\n",
    "    runtime = time.time() - start_time\n",
    "    print('reuntime: ',runtime)\n",
    "\n",
    "    return(m_list, d_L_list)\n",
    "\n",
    "\n",
    "\n",
    "\n",
    "m_list2, d_L_list2 = mean_cluster_size_with_temp_variation()\n",
    "np.savez('lists_2h.npz',m_vals = grid_200, d_vals = grid_500)\n",
    "\n",
    "\n",
    "\n",
    "\n",
    "\n",
    "plot_graphs(m_list2,d_L_list2)\n",
    "\n",
    "\n",
    "#Vi bør kanskje vurdere større n og større t_equil her siden koden kjører såpass fort. \n",
    "#men samtidig går det ekstremt fort å nå equilibrium for flex move, så er kanskje ikke vits, bedre å få\n",
    "#flere målinger"
   ]
  },
  {
   "cell_type": "markdown",
   "metadata": {},
   "source": [
    "These plots live up to our expectations. The average number of clusters decrease as L increases. This makes sense because the polymers are able to reach each other more easily with bigger size. They wont be stranded for instance. The smallest polymers simply might not be able to reach each other. For L = 39 about 43% of the grid is covered, so its obvious that polymers are very likely to touch each other.  \n",
    "\n",
    "d/L, which is the number of polymers per cluster, naturally also increases as L increases.\n"
   ]
  },
  {
   "cell_type": "markdown",
   "metadata": {
    "cell_id": "fd8b309b-43d2-4918-9247-f3aa86a6ba09",
    "deepnote_cell_type": "markdown",
    "tags": []
   },
   "source": [
    "\n",
    "Here we have chosen a much lower t_equil than the ones we used in 1h). This is because the polymer systems appear to reach equilibrium much faster than the monomer systems. We observed this when plotting the polymer system energies. This means we can use a much larger n. This gives us more measurements and means that the average we obtain will be a more precise estimate of the expcted value. The runtime is still livable, sitting at around 13 minutes\n",
    "\n",
    "If you consider the rigid move simulation as opposed to the medium flex, the result would probably be a slightly larger number of clusters. This would be because the polymers will be able to merge more on the surface and form stronger bindings. This will mean that the energy increase when they break apart will be higher, and they are less likely to separate.\n",
    "\n",
    "The difference in polymer size would also make a difference. For smaller sizes of polymers we think that the start conditions will be of higher impact to the simulation because there is a higher chance that polymers spawn isolated. This variance in the initial grid we believe will cause a higher variance overall.\n",
    "\n",
    "\n",
    "\n",
    "\n",
    "\n",
    "\n",
    "\n",
    "\n",
    "\n",
    "\n",
    "\n",
    "\n"
   ]
  },
  {
   "cell_type": "markdown",
   "metadata": {
    "cell_id": "9f0ae8bd-2619-4f12-8068-c7e878622835",
    "deepnote_cell_type": "code",
    "deepnote_output_heights": [
     26
    ],
    "deepnote_to_be_reexecuted": true,
    "execution_millis": 23,
    "execution_start": 1644831124413,
    "source_hash": "4c6e1bcc",
    "tags": []
   },
   "source": [
    "2h) Qualitative analysis of M.\n",
    "Lastly we will discuss how changing the system parameter M, number of polymers in the start grid, will affect the formation of clusters.\n",
    "It is obvious that a higher number of polymers will make it possible to form clusters of bigger sizes. But it is not trivial that this will increase the average size <d> of the clusterers.\n",
    "    \n",
    "The reason we consider M to be an interesting is that it isnt obvious whether increasing M will increase d, the average cluster size. Of course, as M grows really big and almost all of the grid becomes occupied, increasing M makes d bigger, but this isnt always the case. \n",
    "\n",
    "For instance, if we look at a system 1 that consists of 6 polymers vs a system 2 that consists of 4 polymers. There are several configurations for each system, and either one could have the bigger d. This causes a complex probability distribution for d where d could either increase or decrease as M grows. We know the edges of the distribution. In that 'd' is biggest for large M and smallest for M = 1. It would have been interesting to try and determine 'd' for the values of M in between. It does seem like a qualitative approach to this would be hard to find\n",
    "    \n",
    "    \n"
   ]
  },
  {
   "cell_type": "markdown",
   "metadata": {
    "created_in_deepnote_cell": true,
    "deepnote_cell_type": "markdown",
    "tags": []
   },
   "source": [
    "<a style='text-decoration:none;line-height:16px;display:flex;color:#5B5B62;padding:10px;justify-content:end;' href='https://deepnote.com?utm_source=created-in-deepnote-cell&projectId=1472cb45-29a0-4706-b899-13752b3b88df' target=\"_blank\">\n",
    "<img alt='Created in deepnote.com' style='display:inline;max-height:16px;margin:0px;margin-right:7.5px;' src='data:image/svg+xml;base64,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' > </img>\n",
    "Created in <span style='font-weight:600;margin-left:4px;'>Deepnote</span></a>"
   ]
  }
 ],
 "metadata": {
  "deepnote": {
   "is_reactive": false
  },
  "deepnote_execution_queue": [
   {
    "cellId": "df2f8c98-d434-4225-b9b0-62ea5d1d6fd7",
    "msgId": "24d1e01f-27a7-4621-a316-a2ba860cba11",
    "sessionId": "fe9542c0-78bc-4a68-b49a-912f888ea587"
   },
   {
    "cellId": "df2f8c98-d434-4225-b9b0-62ea5d1d6fd7",
    "msgId": "b2740e28-7df9-49c4-9173-5ea63d352372",
    "sessionId": "fe9542c0-78bc-4a68-b49a-912f888ea587"
   },
   {
    "cellId": "54970430-25e1-4921-ab40-b4b330622605",
    "msgId": "ad2dbe98-710a-44c6-b038-a3ff81374fc4",
    "sessionId": "fe9542c0-78bc-4a68-b49a-912f888ea587"
   }
  ],
  "deepnote_notebook_id": "9943369d-6cda-4647-82f5-b31fd635e1f6",
  "kernelspec": {
   "display_name": "Python 3 (ipykernel)",
   "language": "python",
   "name": "python3"
  },
  "language_info": {
   "codemirror_mode": {
    "name": "ipython",
    "version": 3
   },
   "file_extension": ".py",
   "mimetype": "text/x-python",
   "name": "python",
   "nbconvert_exporter": "python",
   "pygments_lexer": "ipython3",
   "version": "3.9.12"
  }
 },
 "nbformat": 4,
 "nbformat_minor": 2
}
